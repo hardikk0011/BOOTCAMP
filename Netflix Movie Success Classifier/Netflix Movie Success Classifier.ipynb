{
 "cells": [
  {
   "cell_type": "markdown",
   "id": "56c2d6a0-fce5-4490-96c3-dc4ee0d6d527",
   "metadata": {},
   "source": [
    "#### Problem Statement:\n",
    "Predicting Movie Success on Netflix-like Streaming Platforms\n",
    "\n",
    "#### Business Context:\n",
    "Objective:\n",
    "Use historical movie and content data to predict whether a movie will be successful on a streaming platform. This model has immense value for:\n",
    "\n",
    "🎬 Content Acquisition & Investment: Decide which films or series to acquire or produce.\n",
    "\n",
    "📈 Marketing Strategy: Allocate budgets more effectively toward promising content.\n",
    "\n",
    "🧠 User Engagement Optimization: Prioritize showing high-likelihood success content to users.\n",
    "\n",
    "💰 Revenue Forecasting: Estimate ROI from different genres/languages and viewer segments.\n",
    "\n",
    "#### Project Objective:\n",
    "Your objective is to develop a predictive model that classifies whether a movie will be \"successful\" based on its metadata (e.g., genre, language, popularity metrics, vote count, etc.).\n",
    "\n",
    "* Exploratory Data Analysis (EDA):\n",
    " \n",
    " * Understand dataset structure and feature distributions.\n",
    "\n",
    " * Identify patterns related to success — genre trends, vote behavior, popularity spikes.\n",
    "\n",
    " * Detect and treat missing values, outliers, or skewed data.\n",
    "\n",
    " * Visualize how various features like genre, language, and popularity relate to success.\n",
    "\n",
    "* Classification Task:\n",
    "  * Problem: Predict whether a movie will be successful (binary classification: Success = 1 / 0).\n",
    "\n",
    "  * Goal: Build classification models like Logistic Regression, Decision Trees, Random Forest, XGBoost, etc.\n",
    "\n",
    "  * Evaluate their performance in identifying successful titles using model metrics.\n",
    "\n",
    "*  Regression Task (Optional / Extended):\n",
    "  * Problem: Predict Vote_Average or Popularity as continuous success indicators.\n",
    "\n",
    "  Goal: Use regression models (e.g., Linear Regression, Random Forest Regressor) to forecast engagement metrics.\n",
    "\n",
    "4. 🧪 Model Evaluation:\n",
    "Classification Metrics: Accuracy, Precision, Recall, F1-Score, Confusion Matrix.\n",
    "\n",
    "Regression Metrics (if applicable): MAE, RMSE, R².\n",
    "\n",
    "Include baseline models and assess performance improvements using cross-validation and tuning.\n",
    "\n",
    "5. 🚀 Model Deployment (Optional):\n",
    "Deploy best-performing model using Flask or Streamlit.\n",
    "\n",
    "Build a simple web app where Netflix staff can input content info (genre, votes, etc.) and get a success prediction in real-time.\n",
    "\n"
   ]
  },
  {
   "cell_type": "code",
   "execution_count": 1,
   "id": "822a0bb3",
   "metadata": {},
   "outputs": [],
   "source": [
    "import pandas as pd\n",
    "import numpy as np\n",
    "import seaborn as sns\n",
    "import matplotlib.pyplot as plt\n",
    "\n"
   ]
  },
  {
   "cell_type": "code",
   "execution_count": 2,
   "id": "4d18193e-3661-4a06-af1a-f36467d3d45e",
   "metadata": {},
   "outputs": [],
   "source": [
    "df = pd.read_csv(r\"C:\\Users\\Lenovo\\Downloads\\movie_classification_dataset.csv\")"
   ]
  },
  {
   "cell_type": "code",
   "execution_count": 3,
   "id": "3e86ee3b-1936-42dc-8abe-14f69dcf5268",
   "metadata": {},
   "outputs": [
    {
     "data": {
      "text/html": [
       "<div>\n",
       "<style scoped>\n",
       "    .dataframe tbody tr th:only-of-type {\n",
       "        vertical-align: middle;\n",
       "    }\n",
       "\n",
       "    .dataframe tbody tr th {\n",
       "        vertical-align: top;\n",
       "    }\n",
       "\n",
       "    .dataframe thead th {\n",
       "        text-align: right;\n",
       "    }\n",
       "</style>\n",
       "<table border=\"1\" class=\"dataframe\">\n",
       "  <thead>\n",
       "    <tr style=\"text-align: right;\">\n",
       "      <th></th>\n",
       "      <th>Title</th>\n",
       "      <th>Popularity</th>\n",
       "      <th>Vote_Count</th>\n",
       "      <th>Vote_Average</th>\n",
       "      <th>Original_Language</th>\n",
       "      <th>Genre</th>\n",
       "      <th>Success</th>\n",
       "    </tr>\n",
       "  </thead>\n",
       "  <tbody>\n",
       "    <tr>\n",
       "      <th>0</th>\n",
       "      <td>Spider-Man: No Way Home</td>\n",
       "      <td>5083.954</td>\n",
       "      <td>8940</td>\n",
       "      <td>8.3</td>\n",
       "      <td>en</td>\n",
       "      <td>Action, Adventure, Science Fiction</td>\n",
       "      <td>1</td>\n",
       "    </tr>\n",
       "    <tr>\n",
       "      <th>1</th>\n",
       "      <td>The Batman</td>\n",
       "      <td>3827.658</td>\n",
       "      <td>1151</td>\n",
       "      <td>8.1</td>\n",
       "      <td>en</td>\n",
       "      <td>Crime, Mystery, Thriller</td>\n",
       "      <td>1</td>\n",
       "    </tr>\n",
       "    <tr>\n",
       "      <th>2</th>\n",
       "      <td>No Exit</td>\n",
       "      <td>2618.087</td>\n",
       "      <td>122</td>\n",
       "      <td>6.3</td>\n",
       "      <td>en</td>\n",
       "      <td>Thriller</td>\n",
       "      <td>0</td>\n",
       "    </tr>\n",
       "    <tr>\n",
       "      <th>3</th>\n",
       "      <td>Encanto</td>\n",
       "      <td>2402.201</td>\n",
       "      <td>5076</td>\n",
       "      <td>7.7</td>\n",
       "      <td>en</td>\n",
       "      <td>Animation, Comedy, Family, Fantasy</td>\n",
       "      <td>1</td>\n",
       "    </tr>\n",
       "    <tr>\n",
       "      <th>4</th>\n",
       "      <td>The King's Man</td>\n",
       "      <td>1895.511</td>\n",
       "      <td>1793</td>\n",
       "      <td>7.0</td>\n",
       "      <td>en</td>\n",
       "      <td>Action, Adventure, Thriller, War</td>\n",
       "      <td>1</td>\n",
       "    </tr>\n",
       "  </tbody>\n",
       "</table>\n",
       "</div>"
      ],
      "text/plain": [
       "                     Title  Popularity  Vote_Count  Vote_Average  \\\n",
       "0  Spider-Man: No Way Home    5083.954        8940           8.3   \n",
       "1               The Batman    3827.658        1151           8.1   \n",
       "2                  No Exit    2618.087         122           6.3   \n",
       "3                  Encanto    2402.201        5076           7.7   \n",
       "4           The King's Man    1895.511        1793           7.0   \n",
       "\n",
       "  Original_Language                               Genre  Success  \n",
       "0                en  Action, Adventure, Science Fiction        1  \n",
       "1                en            Crime, Mystery, Thriller        1  \n",
       "2                en                            Thriller        0  \n",
       "3                en  Animation, Comedy, Family, Fantasy        1  \n",
       "4                en    Action, Adventure, Thriller, War        1  "
      ]
     },
     "execution_count": 3,
     "metadata": {},
     "output_type": "execute_result"
    }
   ],
   "source": [
    "df.head()"
   ]
  },
  {
   "cell_type": "code",
   "execution_count": 4,
   "id": "4c92595e",
   "metadata": {},
   "outputs": [
    {
     "name": "stdout",
     "output_type": "stream",
     "text": [
      "<class 'pandas.core.frame.DataFrame'>\n",
      "RangeIndex: 9826 entries, 0 to 9825\n",
      "Data columns (total 7 columns):\n",
      " #   Column             Non-Null Count  Dtype  \n",
      "---  ------             --------------  -----  \n",
      " 0   Title              9826 non-null   object \n",
      " 1   Popularity         9826 non-null   float64\n",
      " 2   Vote_Count         9826 non-null   int64  \n",
      " 3   Vote_Average       9826 non-null   float64\n",
      " 4   Original_Language  9826 non-null   object \n",
      " 5   Genre              9826 non-null   object \n",
      " 6   Success            9826 non-null   int64  \n",
      "dtypes: float64(2), int64(2), object(3)\n",
      "memory usage: 537.5+ KB\n"
     ]
    }
   ],
   "source": [
    "df.info()"
   ]
  },
  {
   "cell_type": "code",
   "execution_count": 5,
   "id": "e175d879",
   "metadata": {},
   "outputs": [
    {
     "data": {
      "text/html": [
       "<div>\n",
       "<style scoped>\n",
       "    .dataframe tbody tr th:only-of-type {\n",
       "        vertical-align: middle;\n",
       "    }\n",
       "\n",
       "    .dataframe tbody tr th {\n",
       "        vertical-align: top;\n",
       "    }\n",
       "\n",
       "    .dataframe thead th {\n",
       "        text-align: right;\n",
       "    }\n",
       "</style>\n",
       "<table border=\"1\" class=\"dataframe\">\n",
       "  <thead>\n",
       "    <tr style=\"text-align: right;\">\n",
       "      <th></th>\n",
       "      <th>Popularity</th>\n",
       "      <th>Vote_Count</th>\n",
       "      <th>Vote_Average</th>\n",
       "      <th>Success</th>\n",
       "    </tr>\n",
       "  </thead>\n",
       "  <tbody>\n",
       "    <tr>\n",
       "      <th>count</th>\n",
       "      <td>9826.000000</td>\n",
       "      <td>9826.000000</td>\n",
       "      <td>9826.000000</td>\n",
       "      <td>9826.000000</td>\n",
       "    </tr>\n",
       "    <tr>\n",
       "      <th>mean</th>\n",
       "      <td>40.323951</td>\n",
       "      <td>1392.943721</td>\n",
       "      <td>6.439467</td>\n",
       "      <td>0.328313</td>\n",
       "    </tr>\n",
       "    <tr>\n",
       "      <th>std</th>\n",
       "      <td>108.879332</td>\n",
       "      <td>2611.303856</td>\n",
       "      <td>1.129797</td>\n",
       "      <td>0.469623</td>\n",
       "    </tr>\n",
       "    <tr>\n",
       "      <th>min</th>\n",
       "      <td>13.354000</td>\n",
       "      <td>0.000000</td>\n",
       "      <td>0.000000</td>\n",
       "      <td>0.000000</td>\n",
       "    </tr>\n",
       "    <tr>\n",
       "      <th>25%</th>\n",
       "      <td>16.128250</td>\n",
       "      <td>146.000000</td>\n",
       "      <td>5.900000</td>\n",
       "      <td>0.000000</td>\n",
       "    </tr>\n",
       "    <tr>\n",
       "      <th>50%</th>\n",
       "      <td>21.195000</td>\n",
       "      <td>444.000000</td>\n",
       "      <td>6.500000</td>\n",
       "      <td>0.000000</td>\n",
       "    </tr>\n",
       "    <tr>\n",
       "      <th>75%</th>\n",
       "      <td>35.179250</td>\n",
       "      <td>1376.000000</td>\n",
       "      <td>7.100000</td>\n",
       "      <td>1.000000</td>\n",
       "    </tr>\n",
       "    <tr>\n",
       "      <th>max</th>\n",
       "      <td>5083.954000</td>\n",
       "      <td>31077.000000</td>\n",
       "      <td>10.000000</td>\n",
       "      <td>1.000000</td>\n",
       "    </tr>\n",
       "  </tbody>\n",
       "</table>\n",
       "</div>"
      ],
      "text/plain": [
       "        Popularity    Vote_Count  Vote_Average      Success\n",
       "count  9826.000000   9826.000000   9826.000000  9826.000000\n",
       "mean     40.323951   1392.943721      6.439467     0.328313\n",
       "std     108.879332   2611.303856      1.129797     0.469623\n",
       "min      13.354000      0.000000      0.000000     0.000000\n",
       "25%      16.128250    146.000000      5.900000     0.000000\n",
       "50%      21.195000    444.000000      6.500000     0.000000\n",
       "75%      35.179250   1376.000000      7.100000     1.000000\n",
       "max    5083.954000  31077.000000     10.000000     1.000000"
      ]
     },
     "execution_count": 5,
     "metadata": {},
     "output_type": "execute_result"
    }
   ],
   "source": [
    "df.describe()\n"
   ]
  },
  {
   "cell_type": "code",
   "execution_count": 6,
   "id": "3a14e012-5ab5-473f-9c91-8a46aedbbd69",
   "metadata": {},
   "outputs": [
    {
     "data": {
      "text/plain": [
       "(9826, 7)"
      ]
     },
     "execution_count": 6,
     "metadata": {},
     "output_type": "execute_result"
    }
   ],
   "source": [
    "df.shape"
   ]
  },
  {
   "cell_type": "code",
   "execution_count": 7,
   "id": "446c6fd4",
   "metadata": {},
   "outputs": [
    {
     "data": {
      "text/plain": [
       "0"
      ]
     },
     "execution_count": 7,
     "metadata": {},
     "output_type": "execute_result"
    }
   ],
   "source": [
    "df.duplicated().sum()"
   ]
  },
  {
   "cell_type": "code",
   "execution_count": 8,
   "id": "04a45e0d-6c32-44b7-a71e-afd71a31187c",
   "metadata": {},
   "outputs": [
    {
     "data": {
      "text/plain": [
       "Index(['Title', 'Popularity', 'Vote_Count', 'Vote_Average',\n",
       "       'Original_Language', 'Genre', 'Success'],\n",
       "      dtype='object')"
      ]
     },
     "execution_count": 8,
     "metadata": {},
     "output_type": "execute_result"
    }
   ],
   "source": [
    "df.columns"
   ]
  },
  {
   "cell_type": "code",
   "execution_count": 9,
   "id": "ea6301b8",
   "metadata": {},
   "outputs": [
    {
     "data": {
      "text/html": [
       "<div>\n",
       "<style scoped>\n",
       "    .dataframe tbody tr th:only-of-type {\n",
       "        vertical-align: middle;\n",
       "    }\n",
       "\n",
       "    .dataframe tbody tr th {\n",
       "        vertical-align: top;\n",
       "    }\n",
       "\n",
       "    .dataframe thead th {\n",
       "        text-align: right;\n",
       "    }\n",
       "</style>\n",
       "<table border=\"1\" class=\"dataframe\">\n",
       "  <thead>\n",
       "    <tr style=\"text-align: right;\">\n",
       "      <th></th>\n",
       "      <th>Title</th>\n",
       "      <th>Popularity</th>\n",
       "      <th>Vote_Count</th>\n",
       "      <th>Vote_Average</th>\n",
       "      <th>Original_Language</th>\n",
       "      <th>Genre</th>\n",
       "      <th>Success</th>\n",
       "    </tr>\n",
       "  </thead>\n",
       "  <tbody>\n",
       "  </tbody>\n",
       "</table>\n",
       "</div>"
      ],
      "text/plain": [
       "Empty DataFrame\n",
       "Columns: [Title, Popularity, Vote_Count, Vote_Average, Original_Language, Genre, Success]\n",
       "Index: []"
      ]
     },
     "execution_count": 9,
     "metadata": {},
     "output_type": "execute_result"
    }
   ],
   "source": [
    "df[df.duplicated()]"
   ]
  },
  {
   "cell_type": "code",
   "execution_count": 10,
   "id": "3e826780",
   "metadata": {},
   "outputs": [
    {
     "data": {
      "text/plain": [
       "Title                0\n",
       "Popularity           0\n",
       "Vote_Count           0\n",
       "Vote_Average         0\n",
       "Original_Language    0\n",
       "Genre                0\n",
       "Success              0\n",
       "dtype: int64"
      ]
     },
     "execution_count": 10,
     "metadata": {},
     "output_type": "execute_result"
    }
   ],
   "source": [
    "df.isnull().sum()\n"
   ]
  },
  {
   "cell_type": "code",
   "execution_count": 11,
   "id": "b4079df1-e2b6-4a87-bae2-4dd8cf379a49",
   "metadata": {},
   "outputs": [
    {
     "data": {
      "text/html": [
       "<div>\n",
       "<style scoped>\n",
       "    .dataframe tbody tr th:only-of-type {\n",
       "        vertical-align: middle;\n",
       "    }\n",
       "\n",
       "    .dataframe tbody tr th {\n",
       "        vertical-align: top;\n",
       "    }\n",
       "\n",
       "    .dataframe thead th {\n",
       "        text-align: right;\n",
       "    }\n",
       "</style>\n",
       "<table border=\"1\" class=\"dataframe\">\n",
       "  <thead>\n",
       "    <tr style=\"text-align: right;\">\n",
       "      <th></th>\n",
       "      <th>Title</th>\n",
       "      <th>Popularity</th>\n",
       "      <th>Vote_Count</th>\n",
       "      <th>Vote_Average</th>\n",
       "      <th>Original_Language</th>\n",
       "      <th>Genre</th>\n",
       "      <th>Success</th>\n",
       "    </tr>\n",
       "  </thead>\n",
       "  <tbody>\n",
       "    <tr>\n",
       "      <th>0</th>\n",
       "      <td>Spider-Man: No Way Home</td>\n",
       "      <td>5083.954</td>\n",
       "      <td>8940</td>\n",
       "      <td>8.3</td>\n",
       "      <td>en</td>\n",
       "      <td>Action</td>\n",
       "      <td>1</td>\n",
       "    </tr>\n",
       "    <tr>\n",
       "      <th>1</th>\n",
       "      <td>Spider-Man: No Way Home</td>\n",
       "      <td>5083.954</td>\n",
       "      <td>8940</td>\n",
       "      <td>8.3</td>\n",
       "      <td>en</td>\n",
       "      <td>Adventure</td>\n",
       "      <td>1</td>\n",
       "    </tr>\n",
       "    <tr>\n",
       "      <th>2</th>\n",
       "      <td>Spider-Man: No Way Home</td>\n",
       "      <td>5083.954</td>\n",
       "      <td>8940</td>\n",
       "      <td>8.3</td>\n",
       "      <td>en</td>\n",
       "      <td>Science Fiction</td>\n",
       "      <td>1</td>\n",
       "    </tr>\n",
       "    <tr>\n",
       "      <th>3</th>\n",
       "      <td>The Batman</td>\n",
       "      <td>3827.658</td>\n",
       "      <td>1151</td>\n",
       "      <td>8.1</td>\n",
       "      <td>en</td>\n",
       "      <td>Crime</td>\n",
       "      <td>1</td>\n",
       "    </tr>\n",
       "    <tr>\n",
       "      <th>4</th>\n",
       "      <td>The Batman</td>\n",
       "      <td>3827.658</td>\n",
       "      <td>1151</td>\n",
       "      <td>8.1</td>\n",
       "      <td>en</td>\n",
       "      <td>Mystery</td>\n",
       "      <td>1</td>\n",
       "    </tr>\n",
       "  </tbody>\n",
       "</table>\n",
       "</div>"
      ],
      "text/plain": [
       "                     Title  Popularity  Vote_Count  Vote_Average  \\\n",
       "0  Spider-Man: No Way Home    5083.954        8940           8.3   \n",
       "1  Spider-Man: No Way Home    5083.954        8940           8.3   \n",
       "2  Spider-Man: No Way Home    5083.954        8940           8.3   \n",
       "3               The Batman    3827.658        1151           8.1   \n",
       "4               The Batman    3827.658        1151           8.1   \n",
       "\n",
       "  Original_Language            Genre  Success  \n",
       "0                en           Action        1  \n",
       "1                en        Adventure        1  \n",
       "2                en  Science Fiction        1  \n",
       "3                en            Crime        1  \n",
       "4                en          Mystery        1  "
      ]
     },
     "execution_count": 11,
     "metadata": {},
     "output_type": "execute_result"
    }
   ],
   "source": [
    "df['Genre'] = df['Genre'].str.split(', ')    #explode - transform a column of list into multiple rows\n",
    "df = df.explode('Genre').reset_index(drop=True)\n",
    "df.head()"
   ]
  },
  {
   "cell_type": "markdown",
   "id": "0e567c09-6e88-44a2-8240-b3e8c004b0f4",
   "metadata": {},
   "source": [
    "#### Observations\n",
    "* There are no null or duplicarted data entries\n",
    "  "
   ]
  },
  {
   "cell_type": "markdown",
   "id": "8235b528-4da1-4e23-bb7f-b2a30684aa84",
   "metadata": {},
   "source": [
    "#### Outliner Analysis"
   ]
  },
  {
   "cell_type": "code",
   "execution_count": 14,
   "id": "c31c04be-0e01-487c-ace5-c59bfe6f9dd7",
   "metadata": {},
   "outputs": [
    {
     "name": "stdout",
     "output_type": "stream",
     "text": [
      "Title                 object\n",
      "Popularity           float64\n",
      "Vote_Count             int64\n",
      "Vote_Average         float64\n",
      "Original_Language     object\n",
      "Genre                 object\n",
      "Success                int64\n",
      "dtype: object\n"
     ]
    }
   ],
   "source": [
    "print(df.dtypes)\n"
   ]
  },
  {
   "cell_type": "code",
   "execution_count": 15,
   "id": "0441a0eb-a9b2-41d3-9613-2790146ab23a",
   "metadata": {},
   "outputs": [],
   "source": [
    "cat_variables= df.select_dtypes(['object'])\n",
    "cat_variables = cat_variables.drop(columns=['Title'], errors='ignore')\n",
    "num_variables= df.select_dtypes(['int','float'])"
   ]
  },
  {
   "cell_type": "code",
   "execution_count": 16,
   "id": "f409f5d4-f7d9-48dc-8f09-59402ac44948",
   "metadata": {},
   "outputs": [
    {
     "data": {
      "image/png": "[encoded data removed]",
      "text/plain": [
       "<Figure size 500x200 with 1 Axes>"
      ]
     },
     "metadata": {},
     "output_type": "display_data"
    },
    {
     "data": {
      "image/png": "[encoded data removed]",
      "text/plain": [
       "<Figure size 500x200 with 1 Axes>"
      ]
     },
     "metadata": {},
     "output_type": "display_data"
    },
    {
     "data": {
      "image/png": "[encoded data removed]",
      "text/plain": [
       "<Figure size 500x200 with 1 Axes>"
      ]
     },
     "metadata": {},
     "output_type": "display_data"
    },
    {
     "data": {
      "image/png": "[encoded data removed]",
      "text/plain": [
       "<Figure size 500x200 with 1 Axes>"
      ]
     },
     "metadata": {},
     "output_type": "display_data"
    }
   ],
   "source": [
    "for i in num_variables:\n",
    "    plt.figure(figsize=(5,2))\n",
    "    sns.boxplot(data=df, x=i)\n"
   ]
  },
  {
   "cell_type": "code",
   "execution_count": 17,
   "id": "4ed6e49f",
   "metadata": {},
   "outputs": [
    {
     "name": "stdout",
     "output_type": "stream",
     "text": [
      "Number of ouliers in  Popularity : 2778\n",
      "-----------------------\n",
      "Number of ouliers in  Vote_Count : 2985\n",
      "-----------------------\n",
      "Number of ouliers in  Vote_Average : 8\n",
      "-----------------------\n",
      "Number of ouliers in  Success : 0\n",
      "-----------------------\n"
     ]
    }
   ],
   "source": [
    "for i in num_variables:\n",
    "    Q1= np.quantile(df[i],0.25)\n",
    "    Q3= np.quantile(df[i],0.75)\n",
    "    IQR= Q3-Q1\n",
    "    lower_limit= Q1- 1.5*IQR\n",
    "    upper_limit= Q3+ 1.5*IQR\n",
    "    print(\"Number of ouliers in \",i,\":\", len(df[df[i]>upper_limit]))\n",
    "    print('-----------------------')"
   ]
  },
  {
   "cell_type": "markdown",
   "id": "8bf22bad-adc1-4dbf-adf5-45c0d35a3179",
   "metadata": {},
   "source": [
    "#### Observations\n",
    "* There are many outliners in the data\n",
    "* 1047 outliners in Popularity\n",
    "* 1129 Outliners in Vote_Count\n",
    "* 11 Outliners in Vote_Avg"
   ]
  },
  {
   "cell_type": "code",
   "execution_count": 19,
   "id": "cb9221d6-7db4-4dbd-b88e-0e914386068b",
   "metadata": {},
   "outputs": [
    {
     "name": "stdout",
     "output_type": "stream",
     "text": [
      "Index(['Original_Language', 'Genre'], dtype='object')\n"
     ]
    }
   ],
   "source": [
    "print(cat_variables.columns)"
   ]
  },
  {
   "cell_type": "markdown",
   "id": "c88d9cf6-f24a-4372-a4ba-15dda15b6a3d",
   "metadata": {},
   "source": [
    "#### UniVariate Analysis"
   ]
  },
  {
   "cell_type": "code",
   "execution_count": 21,
   "id": "888196a6-1dd8-4ff8-ab80-2f96d04c68ec",
   "metadata": {
    "scrolled": true
   },
   "outputs": [
    {
     "data": {
      "image/png": "[encoded data removed]",
      "text/plain": [
       "<Figure size 1500x1000 with 1 Axes>"
      ]
     },
     "metadata": {},
     "output_type": "display_data"
    },
    {
     "data": {
      "image/png": "[encoded data removed]",
      "text/plain": [
       "<Figure size 1500x1000 with 1 Axes>"
      ]
     },
     "metadata": {},
     "output_type": "display_data"
    }
   ],
   "source": [
    "for i in cat_variables:\n",
    "    plt.figure(figsize=(15,10))\n",
    "    sns.countplot(data=df, x=i)\n",
    "    plt.show()\n",
    "    plt.close()\n"
   ]
  },
  {
   "cell_type": "code",
   "execution_count": 22,
   "id": "fb938b35-ecbe-43fa-ba44-f3806b0bd39e",
   "metadata": {},
   "outputs": [
    {
     "name": "stdout",
     "output_type": "stream",
     "text": [
      "43\n",
      "Original_Language\n",
      "en    20018\n",
      "ja     2025\n",
      "fr      692\n",
      "es      659\n",
      "ko      420\n",
      "zh      364\n",
      "cn      299\n",
      "it      251\n",
      "ru      229\n",
      "de      198\n",
      "pt       72\n",
      "da       63\n",
      "no       62\n",
      "hi       61\n",
      "sv       58\n",
      "nl       46\n",
      "th       45\n",
      "pl       37\n",
      "id       35\n",
      "tr       27\n",
      "te       15\n",
      "tl       13\n",
      "sr       13\n",
      "fi       12\n",
      "el        9\n",
      "cs        8\n",
      "hu        8\n",
      "uk        7\n",
      "is        6\n",
      "fa        6\n",
      "ta        5\n",
      "ro        4\n",
      "he        4\n",
      "ar        4\n",
      "ml        3\n",
      "eu        3\n",
      "nb        2\n",
      "bn        2\n",
      "ms        2\n",
      "et        2\n",
      "ca        1\n",
      "la        1\n",
      "lv        1\n",
      "Name: count, dtype: int64\n",
      "-------------\n",
      "19\n",
      "Genre\n",
      "Drama              3744\n",
      "Comedy             3031\n",
      "Action             2686\n",
      "Thriller           2488\n",
      "Adventure          1853\n",
      "Romance            1476\n",
      "Horror             1470\n",
      "Animation          1438\n",
      "Family             1414\n",
      "Fantasy            1308\n",
      "Science Fiction    1273\n",
      "Crime              1242\n",
      "Mystery             773\n",
      "History             427\n",
      "War                 308\n",
      "Music               295\n",
      "Documentary         215\n",
      "TV Movie            214\n",
      "Western             137\n",
      "Name: count, dtype: int64\n",
      "-------------\n"
     ]
    }
   ],
   "source": [
    "for i in cat_variables.columns:\n",
    "    print(df[i].nunique())\n",
    "    print(df[i].value_counts())\n",
    "    print('-------------')"
   ]
  },
  {
   "cell_type": "markdown",
   "id": "8bbfc9f2-8061-4ecd-854f-54814a803744",
   "metadata": {},
   "source": [
    "#### Observations\n",
    "* In comparison English as the original Lang is significantly more than the others\n",
    "* Common Genres like Horror, Drama ,Action, Adventure are more common"
   ]
  },
  {
   "cell_type": "code",
   "execution_count": 24,
   "id": "e51826ca-a6ee-4a42-947f-d28649edfe0b",
   "metadata": {},
   "outputs": [
    {
     "data": {
      "image/png": "[encoded data removed]",
      "text/plain": [
       "<Figure size 500x200 with 1 Axes>"
      ]
     },
     "metadata": {},
     "output_type": "display_data"
    },
    {
     "data": {
      "image/png": "[encoded data removed]",
      "text/plain": [
       "<Figure size 500x200 with 1 Axes>"
      ]
     },
     "metadata": {},
     "output_type": "display_data"
    },
    {
     "data": {
      "image/png": "[encoded data removed]",
      "text/plain": [
       "<Figure size 500x200 with 1 Axes>"
      ]
     },
     "metadata": {},
     "output_type": "display_data"
    },
    {
     "data": {
      "image/png": "[encoded data removed]",
      "text/plain": [
       "<Figure size 500x200 with 1 Axes>"
      ]
     },
     "metadata": {},
     "output_type": "display_data"
    }
   ],
   "source": [
    " for i in num_variables:\n",
    "    plt.figure(figsize=(5,2))\n",
    "    sns.histplot(data=df,x=i);\n",
    "    plt.show()\n",
    "    plt.close()"
   ]
  },
  {
   "cell_type": "markdown",
   "id": "00d93250-01a5-44a0-88d4-e969f7e8f58e",
   "metadata": {},
   "source": [
    "#### Observations\n",
    "* "
   ]
  },
  {
   "cell_type": "markdown",
   "id": "7cbac54f-579f-453c-876b-fa0a15c3223a",
   "metadata": {},
   "source": [
    "#### Bi-Variate Analysis"
   ]
  },
  {
   "cell_type": "code",
   "execution_count": 27,
   "id": "f98d87f7-5010-4db7-9f32-38efbfad2aa2",
   "metadata": {},
   "outputs": [
    {
     "data": {
      "image/png": "[encoded data removed]",
      "text/plain": [
       "<Figure size 1500x1200 with 1 Axes>"
      ]
     },
     "metadata": {},
     "output_type": "display_data"
    },
    {
     "data": {
      "image/png": "[encoded data removed]",
      "text/plain": [
       "<Figure size 1500x1200 with 1 Axes>"
      ]
     },
     "metadata": {},
     "output_type": "display_data"
    }
   ],
   "source": [
    "for i in cat_variables.columns:\n",
    "    plt.figure(figsize=(15,12))\n",
    "    sns.barplot(data=df, y='Success',x=i,errorbar=None);"
   ]
  },
  {
   "cell_type": "markdown",
   "id": "931b22ad-38c3-4fef-ad4b-07b3f63fb5fa",
   "metadata": {},
   "source": [
    "#### Observations"
   ]
  },
  {
   "cell_type": "code",
   "execution_count": 29,
   "id": "79d7924e-0ebe-43a5-bb81-101a9d4e28ee",
   "metadata": {},
   "outputs": [
    {
     "data": {
      "image/png": "[encoded data removed]",
      "text/plain": [
       "<Figure size 500x200 with 1 Axes>"
      ]
     },
     "metadata": {},
     "output_type": "display_data"
    },
    {
     "data": {
      "image/png": "[encoded data removed]",
      "text/plain": [
       "<Figure size 500x200 with 1 Axes>"
      ]
     },
     "metadata": {},
     "output_type": "display_data"
    },
    {
     "data": {
      "image/png": "[encoded data removed]",
      "text/plain": [
       "<Figure size 500x200 with 1 Axes>"
      ]
     },
     "metadata": {},
     "output_type": "display_data"
    },
    {
     "data": {
      "image/png": "[encoded data removed]",
      "text/plain": [
       "<Figure size 500x200 with 1 Axes>"
      ]
     },
     "metadata": {},
     "output_type": "display_data"
    }
   ],
   "source": [
    "for i in num_variables.columns:\n",
    "    plt.figure(figsize=(5,2))\n",
    "    sns.scatterplot(data=df, y='Success',x=i);"
   ]
  },
  {
   "cell_type": "markdown",
   "id": "ea454b2a-25ae-4eb4-b9c1-9eca115be77e",
   "metadata": {},
   "source": [
    "#### observations"
   ]
  },
  {
   "cell_type": "code",
   "execution_count": 31,
   "id": "97f24131-c898-4fa7-beca-a7947cee023a",
   "metadata": {},
   "outputs": [
    {
     "data": {
      "image/png": "[encoded data removed]",
      "text/plain": [
       "<Figure size 500x200 with 2 Axes>"
      ]
     },
     "metadata": {},
     "output_type": "display_data"
    }
   ],
   "source": [
    "corr= num_variables.corr()\n",
    "plt.figure(figsize=(5,2))\n",
    "sns.heatmap(corr,annot=True);"
   ]
  },
  {
   "cell_type": "markdown",
   "id": "94765918-9940-4c13-a388-43e1eacc7cc3",
   "metadata": {},
   "source": [
    "#### ObserVations\n",
    "* Only relations which are significant with success is Vote_Average"
   ]
  },
  {
   "cell_type": "markdown",
   "id": "f862b797-bbec-4787-889f-86d3588e889a",
   "metadata": {},
   "source": [
    "# 3- Data Cleaning & pre processing\n",
    "* 0.Dropping unwanted columns\n",
    "* 1.Dropping duplicate rows\n",
    "* 2.Replacing wrong entries\n",
    "* 3.Missing values imputation (SimpleImputer, fillna())\n",
    "* 4.Handle outliers (IQR, Z-score method)\n",
    "* 5.Encoding\n",
    "* 6.Data splitting\n",
    "* 7.Feature scaling: StandardScaler, MinMaxScaler\n",
    "* 8.Feature selection:Based on correlation, domain knowledge, or model-based methods"
   ]
  },
  {
   "cell_type": "code",
   "execution_count": 34,
   "id": "454c12b8-e195-4a32-8d73-c34f124f40a9",
   "metadata": {},
   "outputs": [],
   "source": [
    "#### Dropping Title from the dataset as its unwanted\n",
    "df.drop('Title', axis=1, inplace=True)"
   ]
  },
  {
   "cell_type": "code",
   "execution_count": 35,
   "id": "ff5d33f3-7ab9-47a1-ab5b-4be4fb9f50af",
   "metadata": {},
   "outputs": [
    {
     "data": {
      "text/plain": [
       "Popularity           0\n",
       "Vote_Count           0\n",
       "Vote_Average         0\n",
       "Original_Language    0\n",
       "Genre                0\n",
       "Success              0\n",
       "dtype: int64"
      ]
     },
     "execution_count": 35,
     "metadata": {},
     "output_type": "execute_result"
    }
   ],
   "source": [
    "df.isnull().sum()"
   ]
  },
  {
   "cell_type": "markdown",
   "id": "cfd7211a-f0b9-47c9-b00d-e707068a45c7",
   "metadata": {},
   "source": [
    "#### Observations\n",
    "No wrong entries , duplicates or missing values"
   ]
  },
  {
   "cell_type": "code",
   "execution_count": 37,
   "id": "e1183e69-77fd-4036-83e9-e5ce78f8dc5b",
   "metadata": {},
   "outputs": [],
   "source": [
    "#### Outliner Treament\n",
    "df['Popularity'] = np.log1p(df['Popularity'])\n",
    "df['Vote_Count'] = np.log1p(df['Vote_Count'])"
   ]
  },
  {
   "cell_type": "markdown",
   "id": "38a3d164-83e9-4c70-ba28-3f94c70ee0bf",
   "metadata": {},
   "source": [
    "#### Encoding"
   ]
  },
  {
   "cell_type": "code",
   "execution_count": 39,
   "id": "2ef4d6b5-2699-4e79-a2e2-f7dbdf3c8d5d",
   "metadata": {},
   "outputs": [
    {
     "name": "stdout",
     "output_type": "stream",
     "text": [
      "19\n",
      "43\n"
     ]
    }
   ],
   "source": [
    "print(df['Genre'].nunique())\n",
    "print(df['Original_Language'].nunique())"
   ]
  },
  {
   "cell_type": "code",
   "execution_count": 40,
   "id": "269f55b3-0fc0-4bd8-90b4-6d21bffddb13",
   "metadata": {},
   "outputs": [],
   "source": [
    "\n",
    "\n",
    "from sklearn.preprocessing import LabelEncoder\n",
    "\n",
    "# Make a copy of original DataFrame\n",
    "df_encoded = df.copy()\n",
    "\n",
    "# Encode Genre\n",
    "le_genre = LabelEncoder()\n",
    "df_encoded['Genre'] = le_genre.fit_transform(df_encoded['Genre'])\n",
    "\n",
    "# Encode Language\n",
    "le_lang = LabelEncoder()\n",
    "df_encoded['Original_Language'] = le_lang.fit_transform(df_encoded['Original_Language'])"
   ]
  },
  {
   "cell_type": "code",
   "execution_count": 41,
   "id": "0beb8f52-248f-4f52-ac53-c24233405c82",
   "metadata": {},
   "outputs": [
    {
     "data": {
      "text/html": [
       "<div>\n",
       "<style scoped>\n",
       "    .dataframe tbody tr th:only-of-type {\n",
       "        vertical-align: middle;\n",
       "    }\n",
       "\n",
       "    .dataframe tbody tr th {\n",
       "        vertical-align: top;\n",
       "    }\n",
       "\n",
       "    .dataframe thead th {\n",
       "        text-align: right;\n",
       "    }\n",
       "</style>\n",
       "<table border=\"1\" class=\"dataframe\">\n",
       "  <thead>\n",
       "    <tr style=\"text-align: right;\">\n",
       "      <th></th>\n",
       "      <th>Popularity</th>\n",
       "      <th>Vote_Count</th>\n",
       "      <th>Vote_Average</th>\n",
       "      <th>Original_Language</th>\n",
       "      <th>Genre</th>\n",
       "      <th>Success</th>\n",
       "    </tr>\n",
       "  </thead>\n",
       "  <tbody>\n",
       "    <tr>\n",
       "      <th>0</th>\n",
       "      <td>8.534041</td>\n",
       "      <td>9.098403</td>\n",
       "      <td>8.3</td>\n",
       "      <td>8</td>\n",
       "      <td>0</td>\n",
       "      <td>1</td>\n",
       "    </tr>\n",
       "    <tr>\n",
       "      <th>1</th>\n",
       "      <td>8.534041</td>\n",
       "      <td>9.098403</td>\n",
       "      <td>8.3</td>\n",
       "      <td>8</td>\n",
       "      <td>1</td>\n",
       "      <td>1</td>\n",
       "    </tr>\n",
       "    <tr>\n",
       "      <th>2</th>\n",
       "      <td>8.534041</td>\n",
       "      <td>9.098403</td>\n",
       "      <td>8.3</td>\n",
       "      <td>8</td>\n",
       "      <td>14</td>\n",
       "      <td>1</td>\n",
       "    </tr>\n",
       "    <tr>\n",
       "      <th>3</th>\n",
       "      <td>8.250270</td>\n",
       "      <td>7.049255</td>\n",
       "      <td>8.1</td>\n",
       "      <td>8</td>\n",
       "      <td>4</td>\n",
       "      <td>1</td>\n",
       "    </tr>\n",
       "    <tr>\n",
       "      <th>4</th>\n",
       "      <td>8.250270</td>\n",
       "      <td>7.049255</td>\n",
       "      <td>8.1</td>\n",
       "      <td>8</td>\n",
       "      <td>12</td>\n",
       "      <td>1</td>\n",
       "    </tr>\n",
       "  </tbody>\n",
       "</table>\n",
       "</div>"
      ],
      "text/plain": [
       "   Popularity  Vote_Count  Vote_Average  Original_Language  Genre  Success\n",
       "0    8.534041    9.098403           8.3                  8      0        1\n",
       "1    8.534041    9.098403           8.3                  8      1        1\n",
       "2    8.534041    9.098403           8.3                  8     14        1\n",
       "3    8.250270    7.049255           8.1                  8      4        1\n",
       "4    8.250270    7.049255           8.1                  8     12        1"
      ]
     },
     "execution_count": 41,
     "metadata": {},
     "output_type": "execute_result"
    }
   ],
   "source": [
    "df_encoded.head()"
   ]
  },
  {
   "cell_type": "markdown",
   "id": "396e8a5f-8d8b-456e-a2cb-d69836951e31",
   "metadata": {},
   "source": [
    "##  Train Test Split (Required when building model for predictions)"
   ]
  },
  {
   "cell_type": "code",
   "execution_count": 76,
   "id": "5e48ba10-d4ca-46fd-bca9-91207e9b2987",
   "metadata": {},
   "outputs": [],
   "source": [
    "df_TrainTestSplit = df_encoded.copy()\n"
   ]
  },
  {
   "cell_type": "code",
   "execution_count": 78,
   "id": "ebd76de4-eaca-4f21-8ca8-0913dec78180",
   "metadata": {},
   "outputs": [
    {
     "data": {
      "text/html": [
       "<div>\n",
       "<style scoped>\n",
       "    .dataframe tbody tr th:only-of-type {\n",
       "        vertical-align: middle;\n",
       "    }\n",
       "\n",
       "    .dataframe tbody tr th {\n",
       "        vertical-align: top;\n",
       "    }\n",
       "\n",
       "    .dataframe thead th {\n",
       "        text-align: right;\n",
       "    }\n",
       "</style>\n",
       "<table border=\"1\" class=\"dataframe\">\n",
       "  <thead>\n",
       "    <tr style=\"text-align: right;\">\n",
       "      <th></th>\n",
       "      <th>Popularity</th>\n",
       "      <th>Vote_Count</th>\n",
       "      <th>Vote_Average</th>\n",
       "      <th>Original_Language</th>\n",
       "      <th>Genre</th>\n",
       "      <th>Success</th>\n",
       "    </tr>\n",
       "  </thead>\n",
       "  <tbody>\n",
       "    <tr>\n",
       "      <th>0</th>\n",
       "      <td>8.534041</td>\n",
       "      <td>9.098403</td>\n",
       "      <td>8.3</td>\n",
       "      <td>8</td>\n",
       "      <td>0</td>\n",
       "      <td>1</td>\n",
       "    </tr>\n",
       "    <tr>\n",
       "      <th>1</th>\n",
       "      <td>8.534041</td>\n",
       "      <td>9.098403</td>\n",
       "      <td>8.3</td>\n",
       "      <td>8</td>\n",
       "      <td>1</td>\n",
       "      <td>1</td>\n",
       "    </tr>\n",
       "    <tr>\n",
       "      <th>2</th>\n",
       "      <td>8.534041</td>\n",
       "      <td>9.098403</td>\n",
       "      <td>8.3</td>\n",
       "      <td>8</td>\n",
       "      <td>14</td>\n",
       "      <td>1</td>\n",
       "    </tr>\n",
       "    <tr>\n",
       "      <th>3</th>\n",
       "      <td>8.250270</td>\n",
       "      <td>7.049255</td>\n",
       "      <td>8.1</td>\n",
       "      <td>8</td>\n",
       "      <td>4</td>\n",
       "      <td>1</td>\n",
       "    </tr>\n",
       "    <tr>\n",
       "      <th>4</th>\n",
       "      <td>8.250270</td>\n",
       "      <td>7.049255</td>\n",
       "      <td>8.1</td>\n",
       "      <td>8</td>\n",
       "      <td>12</td>\n",
       "      <td>1</td>\n",
       "    </tr>\n",
       "  </tbody>\n",
       "</table>\n",
       "</div>"
      ],
      "text/plain": [
       "   Popularity  Vote_Count  Vote_Average  Original_Language  Genre  Success\n",
       "0    8.534041    9.098403           8.3                  8      0        1\n",
       "1    8.534041    9.098403           8.3                  8      1        1\n",
       "2    8.534041    9.098403           8.3                  8     14        1\n",
       "3    8.250270    7.049255           8.1                  8      4        1\n",
       "4    8.250270    7.049255           8.1                  8     12        1"
      ]
     },
     "execution_count": 78,
     "metadata": {},
     "output_type": "execute_result"
    }
   ],
   "source": [
    "df_TrainTestSplit.head()"
   ]
  },
  {
   "cell_type": "code",
   "execution_count": 80,
   "id": "d14116b5-5a7a-4c2c-8742-3a6adff82d53",
   "metadata": {},
   "outputs": [],
   "source": [
    "X = df_TrainTestSplit.drop('Success', axis=1)  \n",
    "y = df_TrainTestSplit['Success']              \n"
   ]
  },
  {
   "cell_type": "code",
   "execution_count": 82,
   "id": "2b4fb050-3a1d-4506-925b-061a9810c539",
   "metadata": {},
   "outputs": [
    {
     "data": {
      "text/html": [
       "<div>\n",
       "<style scoped>\n",
       "    .dataframe tbody tr th:only-of-type {\n",
       "        vertical-align: middle;\n",
       "    }\n",
       "\n",
       "    .dataframe tbody tr th {\n",
       "        vertical-align: top;\n",
       "    }\n",
       "\n",
       "    .dataframe thead th {\n",
       "        text-align: right;\n",
       "    }\n",
       "</style>\n",
       "<table border=\"1\" class=\"dataframe\">\n",
       "  <thead>\n",
       "    <tr style=\"text-align: right;\">\n",
       "      <th></th>\n",
       "      <th>Popularity</th>\n",
       "      <th>Vote_Count</th>\n",
       "      <th>Vote_Average</th>\n",
       "      <th>Original_Language</th>\n",
       "      <th>Genre</th>\n",
       "    </tr>\n",
       "  </thead>\n",
       "  <tbody>\n",
       "    <tr>\n",
       "      <th>0</th>\n",
       "      <td>8.534041</td>\n",
       "      <td>9.098403</td>\n",
       "      <td>8.3</td>\n",
       "      <td>8</td>\n",
       "      <td>0</td>\n",
       "    </tr>\n",
       "    <tr>\n",
       "      <th>1</th>\n",
       "      <td>8.534041</td>\n",
       "      <td>9.098403</td>\n",
       "      <td>8.3</td>\n",
       "      <td>8</td>\n",
       "      <td>1</td>\n",
       "    </tr>\n",
       "    <tr>\n",
       "      <th>2</th>\n",
       "      <td>8.534041</td>\n",
       "      <td>9.098403</td>\n",
       "      <td>8.3</td>\n",
       "      <td>8</td>\n",
       "      <td>14</td>\n",
       "    </tr>\n",
       "    <tr>\n",
       "      <th>3</th>\n",
       "      <td>8.250270</td>\n",
       "      <td>7.049255</td>\n",
       "      <td>8.1</td>\n",
       "      <td>8</td>\n",
       "      <td>4</td>\n",
       "    </tr>\n",
       "    <tr>\n",
       "      <th>4</th>\n",
       "      <td>8.250270</td>\n",
       "      <td>7.049255</td>\n",
       "      <td>8.1</td>\n",
       "      <td>8</td>\n",
       "      <td>12</td>\n",
       "    </tr>\n",
       "  </tbody>\n",
       "</table>\n",
       "</div>"
      ],
      "text/plain": [
       "   Popularity  Vote_Count  Vote_Average  Original_Language  Genre\n",
       "0    8.534041    9.098403           8.3                  8      0\n",
       "1    8.534041    9.098403           8.3                  8      1\n",
       "2    8.534041    9.098403           8.3                  8     14\n",
       "3    8.250270    7.049255           8.1                  8      4\n",
       "4    8.250270    7.049255           8.1                  8     12"
      ]
     },
     "execution_count": 82,
     "metadata": {},
     "output_type": "execute_result"
    }
   ],
   "source": [
    "X.head()"
   ]
  },
  {
   "cell_type": "code",
   "execution_count": 84,
   "id": "5ff2ffe6-8bfa-4a34-8383-ef9143763502",
   "metadata": {},
   "outputs": [],
   "source": [
    "from sklearn.model_selection import train_test_split\n",
    "X_train, X_val, y_train, y_val = train_test_split(X, y,test_size=0.2,random_state=20)    "
   ]
  },
  {
   "cell_type": "code",
   "execution_count": 86,
   "id": "2cca4b07-b843-415c-ae18-a580dfc0e041",
   "metadata": {},
   "outputs": [
    {
     "data": {
      "text/html": [
       "<div>\n",
       "<style scoped>\n",
       "    .dataframe tbody tr th:only-of-type {\n",
       "        vertical-align: middle;\n",
       "    }\n",
       "\n",
       "    .dataframe tbody tr th {\n",
       "        vertical-align: top;\n",
       "    }\n",
       "\n",
       "    .dataframe thead th {\n",
       "        text-align: right;\n",
       "    }\n",
       "</style>\n",
       "<table border=\"1\" class=\"dataframe\">\n",
       "  <thead>\n",
       "    <tr style=\"text-align: right;\">\n",
       "      <th></th>\n",
       "      <th>Popularity</th>\n",
       "      <th>Vote_Count</th>\n",
       "      <th>Vote_Average</th>\n",
       "      <th>Original_Language</th>\n",
       "      <th>Genre</th>\n",
       "    </tr>\n",
       "  </thead>\n",
       "  <tbody>\n",
       "    <tr>\n",
       "      <th>16558</th>\n",
       "      <td>2.959587</td>\n",
       "      <td>6.318968</td>\n",
       "      <td>6.3</td>\n",
       "      <td>33</td>\n",
       "      <td>8</td>\n",
       "    </tr>\n",
       "    <tr>\n",
       "      <th>7366</th>\n",
       "      <td>3.531026</td>\n",
       "      <td>3.871201</td>\n",
       "      <td>6.7</td>\n",
       "      <td>21</td>\n",
       "      <td>6</td>\n",
       "    </tr>\n",
       "    <tr>\n",
       "      <th>23858</th>\n",
       "      <td>2.715026</td>\n",
       "      <td>6.594413</td>\n",
       "      <td>7.5</td>\n",
       "      <td>8</td>\n",
       "      <td>16</td>\n",
       "    </tr>\n",
       "    <tr>\n",
       "      <th>4537</th>\n",
       "      <td>3.887710</td>\n",
       "      <td>6.352629</td>\n",
       "      <td>7.2</td>\n",
       "      <td>8</td>\n",
       "      <td>2</td>\n",
       "    </tr>\n",
       "    <tr>\n",
       "      <th>5156</th>\n",
       "      <td>3.792293</td>\n",
       "      <td>8.406708</td>\n",
       "      <td>7.4</td>\n",
       "      <td>8</td>\n",
       "      <td>9</td>\n",
       "    </tr>\n",
       "  </tbody>\n",
       "</table>\n",
       "</div>"
      ],
      "text/plain": [
       "       Popularity  Vote_Count  Vote_Average  Original_Language  Genre\n",
       "16558    2.959587    6.318968           6.3                 33      8\n",
       "7366     3.531026    3.871201           6.7                 21      6\n",
       "23858    2.715026    6.594413           7.5                  8     16\n",
       "4537     3.887710    6.352629           7.2                  8      2\n",
       "5156     3.792293    8.406708           7.4                  8      9"
      ]
     },
     "execution_count": 86,
     "metadata": {},
     "output_type": "execute_result"
    }
   ],
   "source": [
    "X_train.head()"
   ]
  },
  {
   "cell_type": "code",
   "execution_count": 88,
   "id": "f13db6e0-1dc3-4b81-8523-9506587f3a97",
   "metadata": {},
   "outputs": [
    {
     "data": {
      "text/plain": [
       "0        1\n",
       "1        1\n",
       "2        1\n",
       "3        1\n",
       "4        1\n",
       "        ..\n",
       "25787    0\n",
       "25788    0\n",
       "25789    1\n",
       "25790    1\n",
       "25791    1\n",
       "Name: Success, Length: 25792, dtype: int64"
      ]
     },
     "execution_count": 88,
     "metadata": {},
     "output_type": "execute_result"
    }
   ],
   "source": [
    "y"
   ]
  },
  {
   "cell_type": "markdown",
   "id": "936e9d70-94b5-4856-b296-53f348c77ba6",
   "metadata": {},
   "source": [
    "## Scaling"
   ]
  },
  {
   "cell_type": "code",
   "execution_count": 91,
   "id": "846e2327-751b-4cab-bc69-664620b46fa9",
   "metadata": {},
   "outputs": [
    {
     "data": {
      "text/plain": [
       "Index(['Popularity', 'Vote_Count', 'Vote_Average', 'Original_Language',\n",
       "       'Genre'],\n",
       "      dtype='object')"
      ]
     },
     "execution_count": 91,
     "metadata": {},
     "output_type": "execute_result"
    }
   ],
   "source": [
    "X_train.columns"
   ]
  },
  {
   "cell_type": "code",
   "execution_count": 93,
   "id": "deb279d4-6919-4d8b-8ed3-42daefb4bc9d",
   "metadata": {},
   "outputs": [],
   "source": [
    "num_cols = ['Popularity', 'Vote_Count', 'Vote_Average']\n",
    "\n",
    "cat_cols = ['Original_Language','Genre']"
   ]
  },
  {
   "cell_type": "code",
   "execution_count": 214,
   "id": "45a82740-5850-4703-9cda-aef05b67bb68",
   "metadata": {},
   "outputs": [],
   "source": [
    "from sklearn.model_selection import train_test_split\n",
    "from sklearn.preprocessing import StandardScaler\n",
    "import pandas as pd\n",
    "\n",
    "# Step 1: Define features and target\n",
    "X = df_encoded.drop('Success', axis=1)\n",
    "y = df_encoded['Success']\n",
    "\n",
    "# Step 2: Train-validation split\n",
    "X_train, X_val, y_train, y_val = train_test_split(\n",
    "    X, y,\n",
    "    test_size=0.2,\n",
    "    random_state=42,\n",
    "    stratify=y\n",
    ")\n",
    "\n",
    "# Step 3: Define numerical and categorical columns\n",
    "num_cols = ['Popularity', 'Vote_Count', 'Vote_Average']\n",
    "cat_cols = ['Genre', 'Original_Language']  # Updated here\n",
    "\n",
    "# Step 4: Z-score scaling for numerical columns\n",
    "scaler = StandardScaler()\n",
    "scaler.fit(X_train[num_cols])\n",
    "\n",
    "Xtrain_scaled_num = pd.DataFrame(scaler.transform(X_train[num_cols]), columns=num_cols)\n",
    "Xval_scaled_num = pd.DataFrame(scaler.transform(X_val[num_cols]), columns=num_cols)\n",
    "\n",
    "# Step 5: Combine scaled numeric with unscaled categorical features\n",
    "scaled_train = pd.concat([Xtrain_scaled_num.reset_index(drop=True), X_train[cat_cols].reset_index(drop=True)], axis=1)\n",
    "scaled_val = pd.concat([Xval_scaled_num.reset_index(drop=True), X_val[cat_cols].reset_index(drop=True)], axis=1)\n"
   ]
  },
  {
   "cell_type": "code",
   "execution_count": 216,
   "id": "1c4bbb79-6fd4-4f17-8f99-a64771977fdb",
   "metadata": {},
   "outputs": [
    {
     "data": {
      "text/html": [
       "<div>\n",
       "<style scoped>\n",
       "    .dataframe tbody tr th:only-of-type {\n",
       "        vertical-align: middle;\n",
       "    }\n",
       "\n",
       "    .dataframe tbody tr th {\n",
       "        vertical-align: top;\n",
       "    }\n",
       "\n",
       "    .dataframe thead th {\n",
       "        text-align: right;\n",
       "    }\n",
       "</style>\n",
       "<table border=\"1\" class=\"dataframe\">\n",
       "  <thead>\n",
       "    <tr style=\"text-align: right;\">\n",
       "      <th></th>\n",
       "      <th>Popularity</th>\n",
       "      <th>Vote_Count</th>\n",
       "      <th>Vote_Average</th>\n",
       "    </tr>\n",
       "  </thead>\n",
       "  <tbody>\n",
       "    <tr>\n",
       "      <th>count</th>\n",
       "      <td>20633.00</td>\n",
       "      <td>20633.00</td>\n",
       "      <td>20633.00</td>\n",
       "    </tr>\n",
       "    <tr>\n",
       "      <th>mean</th>\n",
       "      <td>0.00</td>\n",
       "      <td>-0.00</td>\n",
       "      <td>-0.00</td>\n",
       "    </tr>\n",
       "    <tr>\n",
       "      <th>std</th>\n",
       "      <td>1.00</td>\n",
       "      <td>1.00</td>\n",
       "      <td>1.00</td>\n",
       "    </tr>\n",
       "    <tr>\n",
       "      <th>min</th>\n",
       "      <td>-0.99</td>\n",
       "      <td>-3.57</td>\n",
       "      <td>-6.00</td>\n",
       "    </tr>\n",
       "    <tr>\n",
       "      <th>25%</th>\n",
       "      <td>-0.72</td>\n",
       "      <td>-0.59</td>\n",
       "      <td>-0.44</td>\n",
       "    </tr>\n",
       "    <tr>\n",
       "      <th>50%</th>\n",
       "      <td>-0.32</td>\n",
       "      <td>0.03</td>\n",
       "      <td>0.11</td>\n",
       "    </tr>\n",
       "    <tr>\n",
       "      <th>75%</th>\n",
       "      <td>0.41</td>\n",
       "      <td>0.68</td>\n",
       "      <td>0.67</td>\n",
       "    </tr>\n",
       "    <tr>\n",
       "      <th>max</th>\n",
       "      <td>7.57</td>\n",
       "      <td>2.44</td>\n",
       "      <td>3.26</td>\n",
       "    </tr>\n",
       "  </tbody>\n",
       "</table>\n",
       "</div>"
      ],
      "text/plain": [
       "       Popularity  Vote_Count  Vote_Average\n",
       "count    20633.00    20633.00      20633.00\n",
       "mean         0.00       -0.00         -0.00\n",
       "std          1.00        1.00          1.00\n",
       "min         -0.99       -3.57         -6.00\n",
       "25%         -0.72       -0.59         -0.44\n",
       "50%         -0.32        0.03          0.11\n",
       "75%          0.41        0.68          0.67\n",
       "max          7.57        2.44          3.26"
      ]
     },
     "execution_count": 216,
     "metadata": {},
     "output_type": "execute_result"
    }
   ],
   "source": [
    "round(Xtrain_scaled_StandardScalar.describe(),2)"
   ]
  },
  {
   "cell_type": "code",
   "execution_count": 218,
   "id": "bcff7f5b-e548-4f87-9182-c13c1b2475aa",
   "metadata": {},
   "outputs": [
    {
     "data": {
      "text/html": [
       "<div>\n",
       "<style scoped>\n",
       "    .dataframe tbody tr th:only-of-type {\n",
       "        vertical-align: middle;\n",
       "    }\n",
       "\n",
       "    .dataframe tbody tr th {\n",
       "        vertical-align: top;\n",
       "    }\n",
       "\n",
       "    .dataframe thead th {\n",
       "        text-align: right;\n",
       "    }\n",
       "</style>\n",
       "<table border=\"1\" class=\"dataframe\">\n",
       "  <thead>\n",
       "    <tr style=\"text-align: right;\">\n",
       "      <th></th>\n",
       "      <th>Popularity</th>\n",
       "      <th>Vote_Count</th>\n",
       "      <th>Vote_Average</th>\n",
       "    </tr>\n",
       "  </thead>\n",
       "  <tbody>\n",
       "    <tr>\n",
       "      <th>16010</th>\n",
       "      <td>2.980720</td>\n",
       "      <td>7.013016</td>\n",
       "      <td>7.5</td>\n",
       "    </tr>\n",
       "    <tr>\n",
       "      <th>9139</th>\n",
       "      <td>3.366847</td>\n",
       "      <td>0.000000</td>\n",
       "      <td>0.0</td>\n",
       "    </tr>\n",
       "  </tbody>\n",
       "</table>\n",
       "</div>"
      ],
      "text/plain": [
       "       Popularity  Vote_Count  Vote_Average\n",
       "16010    2.980720    7.013016           7.5\n",
       "9139     3.366847    0.000000           0.0"
      ]
     },
     "execution_count": 218,
     "metadata": {},
     "output_type": "execute_result"
    }
   ],
   "source": [
    "X_train[num_cols].head(2)"
   ]
  },
  {
   "cell_type": "code",
   "execution_count": 220,
   "id": "eadf4c9b-4b1b-462c-afa2-6900c4650046",
   "metadata": {},
   "outputs": [
    {
     "data": {
      "text/html": [
       "<div>\n",
       "<style scoped>\n",
       "    .dataframe tbody tr th:only-of-type {\n",
       "        vertical-align: middle;\n",
       "    }\n",
       "\n",
       "    .dataframe tbody tr th {\n",
       "        vertical-align: top;\n",
       "    }\n",
       "\n",
       "    .dataframe thead th {\n",
       "        text-align: right;\n",
       "    }\n",
       "</style>\n",
       "<table border=\"1\" class=\"dataframe\">\n",
       "  <thead>\n",
       "    <tr style=\"text-align: right;\">\n",
       "      <th></th>\n",
       "      <th>Popularity</th>\n",
       "      <th>Vote_Count</th>\n",
       "      <th>Vote_Average</th>\n",
       "    </tr>\n",
       "  </thead>\n",
       "  <tbody>\n",
       "    <tr>\n",
       "      <th>0</th>\n",
       "      <td>-0.562055</td>\n",
       "      <td>0.100459</td>\n",
       "      <td>-0.163049</td>\n",
       "    </tr>\n",
       "    <tr>\n",
       "      <th>1</th>\n",
       "      <td>0.271546</td>\n",
       "      <td>-1.320762</td>\n",
       "      <td>0.207457</td>\n",
       "    </tr>\n",
       "    <tr>\n",
       "      <th>2</th>\n",
       "      <td>-0.918814</td>\n",
       "      <td>0.260388</td>\n",
       "      <td>0.948470</td>\n",
       "    </tr>\n",
       "    <tr>\n",
       "      <th>3</th>\n",
       "      <td>0.791866</td>\n",
       "      <td>0.120004</td>\n",
       "      <td>0.670590</td>\n",
       "    </tr>\n",
       "    <tr>\n",
       "      <th>4</th>\n",
       "      <td>0.652675</td>\n",
       "      <td>1.312642</td>\n",
       "      <td>0.855843</td>\n",
       "    </tr>\n",
       "  </tbody>\n",
       "</table>\n",
       "</div>"
      ],
      "text/plain": [
       "   Popularity  Vote_Count  Vote_Average\n",
       "0   -0.562055    0.100459     -0.163049\n",
       "1    0.271546   -1.320762      0.207457\n",
       "2   -0.918814    0.260388      0.948470\n",
       "3    0.791866    0.120004      0.670590\n",
       "4    0.652675    1.312642      0.855843"
      ]
     },
     "execution_count": 220,
     "metadata": {},
     "output_type": "execute_result"
    }
   ],
   "source": [
    "Xtrain_scaled_StandardScalar.head()"
   ]
  },
  {
   "cell_type": "code",
   "execution_count": 222,
   "id": "04ba9302-f50f-483d-a757-5ff953bb5e2e",
   "metadata": {},
   "outputs": [
    {
     "data": {
      "text/plain": [
       "(20633, 3)"
      ]
     },
     "execution_count": 222,
     "metadata": {},
     "output_type": "execute_result"
    }
   ],
   "source": [
    "Xtrain_scaled_StandardScalar.shape"
   ]
  },
  {
   "cell_type": "code",
   "execution_count": 224,
   "id": "b6e44c8f-b892-4677-ba89-05c3baba3051",
   "metadata": {},
   "outputs": [
    {
     "data": {
      "text/plain": [
       "(20633, 2)"
      ]
     },
     "execution_count": 224,
     "metadata": {},
     "output_type": "execute_result"
    }
   ],
   "source": [
    "X_train[cat_cols].shape"
   ]
  },
  {
   "cell_type": "code",
   "execution_count": 226,
   "id": "3ed18a2e-c633-44c9-8c88-b01c0dfbb452",
   "metadata": {},
   "outputs": [],
   "source": [
    "from sklearn.preprocessing import StandardScaler\n",
    "\n",
    "scaler = StandardScaler()\n",
    "\n",
    "# Only fit on training data!\n",
    "scaler.fit(X_train[num_cols])\n",
    "\n",
    "# Then transform both\n",
    "Xtrain_scaled_StandardScalar = scaler.transform(X_train[num_cols])\n",
    "Xval_scaled_StandardScalar = scaler.transform(X_val[num_cols])\n"
   ]
  },
  {
   "cell_type": "code",
   "execution_count": 228,
   "id": "20a83c1c-3f47-4710-8f69-635bcff5201d",
   "metadata": {},
   "outputs": [],
   "source": [
    "Xtrain_scaled_StandardScalar = pd.DataFrame(\n",
    "    Xtrain_scaled_StandardScalar,\n",
    "    columns=X_train[num_cols].columns\n",
    ")\n"
   ]
  },
  {
   "cell_type": "code",
   "execution_count": 230,
   "id": "b4fe3fdf-c8bf-4fe5-a96d-33f8ce95dafa",
   "metadata": {},
   "outputs": [
    {
     "data": {
      "text/html": [
       "<div>\n",
       "<style scoped>\n",
       "    .dataframe tbody tr th:only-of-type {\n",
       "        vertical-align: middle;\n",
       "    }\n",
       "\n",
       "    .dataframe tbody tr th {\n",
       "        vertical-align: top;\n",
       "    }\n",
       "\n",
       "    .dataframe thead th {\n",
       "        text-align: right;\n",
       "    }\n",
       "</style>\n",
       "<table border=\"1\" class=\"dataframe\">\n",
       "  <thead>\n",
       "    <tr style=\"text-align: right;\">\n",
       "      <th></th>\n",
       "      <th>Popularity</th>\n",
       "      <th>Vote_Count</th>\n",
       "      <th>Vote_Average</th>\n",
       "    </tr>\n",
       "  </thead>\n",
       "  <tbody>\n",
       "    <tr>\n",
       "      <th>count</th>\n",
       "      <td>20633.00</td>\n",
       "      <td>20633.00</td>\n",
       "      <td>20633.00</td>\n",
       "    </tr>\n",
       "    <tr>\n",
       "      <th>mean</th>\n",
       "      <td>-0.00</td>\n",
       "      <td>-0.00</td>\n",
       "      <td>-0.00</td>\n",
       "    </tr>\n",
       "    <tr>\n",
       "      <th>std</th>\n",
       "      <td>1.00</td>\n",
       "      <td>1.00</td>\n",
       "      <td>1.00</td>\n",
       "    </tr>\n",
       "    <tr>\n",
       "      <th>min</th>\n",
       "      <td>-1.00</td>\n",
       "      <td>-3.56</td>\n",
       "      <td>-5.97</td>\n",
       "    </tr>\n",
       "    <tr>\n",
       "      <th>25%</th>\n",
       "      <td>-0.72</td>\n",
       "      <td>-0.59</td>\n",
       "      <td>-0.44</td>\n",
       "    </tr>\n",
       "    <tr>\n",
       "      <th>50%</th>\n",
       "      <td>-0.32</td>\n",
       "      <td>0.03</td>\n",
       "      <td>0.11</td>\n",
       "    </tr>\n",
       "    <tr>\n",
       "      <th>75%</th>\n",
       "      <td>0.40</td>\n",
       "      <td>0.68</td>\n",
       "      <td>0.67</td>\n",
       "    </tr>\n",
       "    <tr>\n",
       "      <th>max</th>\n",
       "      <td>7.56</td>\n",
       "      <td>2.43</td>\n",
       "      <td>3.25</td>\n",
       "    </tr>\n",
       "  </tbody>\n",
       "</table>\n",
       "</div>"
      ],
      "text/plain": [
       "       Popularity  Vote_Count  Vote_Average\n",
       "count    20633.00    20633.00      20633.00\n",
       "mean        -0.00       -0.00         -0.00\n",
       "std          1.00        1.00          1.00\n",
       "min         -1.00       -3.56         -5.97\n",
       "25%         -0.72       -0.59         -0.44\n",
       "50%         -0.32        0.03          0.11\n",
       "75%          0.40        0.68          0.67\n",
       "max          7.56        2.43          3.25"
      ]
     },
     "execution_count": 230,
     "metadata": {},
     "output_type": "execute_result"
    }
   ],
   "source": [
    "round(Xtrain_scaled_StandardScalar.describe(), 2)\n",
    "\n"
   ]
  },
  {
   "cell_type": "code",
   "execution_count": 232,
   "id": "a7e32a87-480f-424a-b508-8e4ca40c06bd",
   "metadata": {},
   "outputs": [
    {
     "data": {
      "text/html": [
       "<div>\n",
       "<style scoped>\n",
       "    .dataframe tbody tr th:only-of-type {\n",
       "        vertical-align: middle;\n",
       "    }\n",
       "\n",
       "    .dataframe tbody tr th {\n",
       "        vertical-align: top;\n",
       "    }\n",
       "\n",
       "    .dataframe thead th {\n",
       "        text-align: right;\n",
       "    }\n",
       "</style>\n",
       "<table border=\"1\" class=\"dataframe\">\n",
       "  <thead>\n",
       "    <tr style=\"text-align: right;\">\n",
       "      <th></th>\n",
       "      <th>Genre</th>\n",
       "      <th>Original_Language</th>\n",
       "    </tr>\n",
       "  </thead>\n",
       "  <tbody>\n",
       "    <tr>\n",
       "      <th>0</th>\n",
       "      <td>10</td>\n",
       "      <td>8</td>\n",
       "    </tr>\n",
       "    <tr>\n",
       "      <th>1</th>\n",
       "      <td>1</td>\n",
       "      <td>8</td>\n",
       "    </tr>\n",
       "    <tr>\n",
       "      <th>2</th>\n",
       "      <td>9</td>\n",
       "      <td>8</td>\n",
       "    </tr>\n",
       "    <tr>\n",
       "      <th>3</th>\n",
       "      <td>6</td>\n",
       "      <td>8</td>\n",
       "    </tr>\n",
       "    <tr>\n",
       "      <th>4</th>\n",
       "      <td>13</td>\n",
       "      <td>8</td>\n",
       "    </tr>\n",
       "    <tr>\n",
       "      <th>...</th>\n",
       "      <td>...</td>\n",
       "      <td>...</td>\n",
       "    </tr>\n",
       "    <tr>\n",
       "      <th>20628</th>\n",
       "      <td>1</td>\n",
       "      <td>21</td>\n",
       "    </tr>\n",
       "    <tr>\n",
       "      <th>20629</th>\n",
       "      <td>7</td>\n",
       "      <td>8</td>\n",
       "    </tr>\n",
       "    <tr>\n",
       "      <th>20630</th>\n",
       "      <td>1</td>\n",
       "      <td>8</td>\n",
       "    </tr>\n",
       "    <tr>\n",
       "      <th>20631</th>\n",
       "      <td>13</td>\n",
       "      <td>21</td>\n",
       "    </tr>\n",
       "    <tr>\n",
       "      <th>20632</th>\n",
       "      <td>6</td>\n",
       "      <td>8</td>\n",
       "    </tr>\n",
       "  </tbody>\n",
       "</table>\n",
       "<p>20633 rows × 2 columns</p>\n",
       "</div>"
      ],
      "text/plain": [
       "       Genre  Original_Language\n",
       "0         10                  8\n",
       "1          1                  8\n",
       "2          9                  8\n",
       "3          6                  8\n",
       "4         13                  8\n",
       "...      ...                ...\n",
       "20628      1                 21\n",
       "20629      7                  8\n",
       "20630      1                  8\n",
       "20631     13                 21\n",
       "20632      6                  8\n",
       "\n",
       "[20633 rows x 2 columns]"
      ]
     },
     "execution_count": 232,
     "metadata": {},
     "output_type": "execute_result"
    }
   ],
   "source": [
    "X_train[cat_cols].reset_index(drop=True)"
   ]
  },
  {
   "cell_type": "code",
   "execution_count": 267,
   "id": "80f24533-4746-4d6a-a08a-3fe27a41ee47",
   "metadata": {},
   "outputs": [],
   "source": [
    "scaled_train.to_csv('Scaled_data_train',index=False)\n",
    "scaled_test.to_csv('Scaled_data_val',index=False)"
   ]
  },
  {
   "cell_type": "markdown",
   "id": "99792f3b-02ba-427f-966e-8ea59050c8f8",
   "metadata": {},
   "source": [
    "## Model Building"
   ]
  },
  {
   "cell_type": "code",
   "execution_count": 239,
   "id": "b785da21-e353-4fa7-a55f-272ff7e568ef",
   "metadata": {},
   "outputs": [],
   "source": [
    "import pandas as pd\n",
    "import numpy as np\n",
    "from sklearn.model_selection import train_test_split\n",
    "from sklearn.metrics import classification_report,confusion_matrix, accuracy_score, precision_score, recall_score, f1_score\n",
    "from sklearn.linear_model import LogisticRegression\n",
    "from sklearn.naive_bayes import GaussianNB\n",
    "from sklearn.neighbors import KNeighborsClassifier\n",
    "from sklearn.tree import DecisionTreeClassifier\n",
    "from sklearn.ensemble import RandomForestClassifier,AdaBoostClassifier,GradientBoostingClassifier\n",
    "#pip install xgboost\n",
    "from xgboost import XGBClassifier"
   ]
  },
  {
   "cell_type": "code",
   "execution_count": 258,
   "id": "218a501c-1c88-49d0-9cd0-a2ed5ea6d8ea",
   "metadata": {},
   "outputs": [
    {
     "name": "stdout",
     "output_type": "stream",
     "text": [
      "Train Accuracy:  0.982\n",
      "Val Accuracy:    0.955\n",
      "Precision:       0.943\n",
      "Recall:          0.923\n",
      "F1 Score:        0.933\n"
     ]
    }
   ],
   "source": [
    "\n",
    "# KNN model\n",
    "knn = KNeighborsClassifier(n_neighbors=3)  # You can lower this for more variability\n",
    "\n",
    "knn.fit(scaled_train, y_train)\n",
    "\n",
    "y_train_pred = knn.predict(scaled_train)\n",
    "y_val_pred = knn.predict(scaled_val)\n",
    "\n",
    "# Evaluation\n",
    "acc_train = accuracy_score(y_train, y_train_pred)\n",
    "acc_val = accuracy_score(y_val, y_val_pred)\n",
    "prec = precision_score(y_val, y_val_pred, zero_division=0)\n",
    "rec = recall_score(y_val, y_val_pred, zero_division=0)\n",
    "f1 = f1_score(y_val, y_val_pred, zero_division=0)\n",
    "\n",
    "# Print results\n",
    "print(f\"Train Accuracy:  {acc_train:.3f}\")\n",
    "print(f\"Val Accuracy:    {acc_val:.3f}\")\n",
    "print(f\"Precision:       {prec:.3f}\")\n",
    "print(f\"Recall:          {rec:.3f}\")\n",
    "print(f\"F1 Score:        {f1:.3f}\")\n"
   ]
  },
  {
   "cell_type": "code",
   "execution_count": 261,
   "id": "97816445-cf9a-42a5-be4d-756a2be4cbc6",
   "metadata": {},
   "outputs": [
    {
     "name": "stdout",
     "output_type": "stream",
     "text": [
      "📊 Classification Report:\n",
      "                precision    recall  f1-score   support\n",
      "\n",
      "Not Successful       0.96      0.97      0.97      3433\n",
      "    Successful       0.94      0.92      0.93      1726\n",
      "\n",
      "      accuracy                           0.96      5159\n",
      "     macro avg       0.95      0.95      0.95      5159\n",
      "  weighted avg       0.96      0.96      0.96      5159\n",
      "\n"
     ]
    },
    {
     "data": {
      "image/png": "[encoded data removed]",
      "text/plain": [
       "<Figure size 600x400 with 2 Axes>"
      ]
     },
     "metadata": {},
     "output_type": "display_data"
    }
   ],
   "source": [
    "from sklearn.metrics import classification_report, confusion_matrix\n",
    "import seaborn as sns\n",
    "import matplotlib.pyplot as plt\n",
    "\n",
    "# Predict using your KNN model\n",
    "y_val_pred = knn.predict(scaled_val)\n",
    "\n",
    "# Classification Report\n",
    "print(\"📊 Classification Report:\")\n",
    "print(classification_report(y_val, y_val_pred, target_names=[\"Not Successful\", \"Successful\"]))\n",
    "\n",
    "# Confusion Matrix\n",
    "cm = confusion_matrix(y_val, y_val_pred)\n",
    "\n",
    "# Plot Confusion Matrix\n",
    "plt.figure(figsize=(6, 4))\n",
    "sns.heatmap(cm, annot=True, fmt='d', cmap='Blues',\n",
    "            xticklabels=[\"Not Successful\", \"Successful\"],\n",
    "            yticklabels=[\"Not Successful\", \"Successful\"])\n",
    "plt.xlabel(\"Predicted\")\n",
    "plt.ylabel(\"Actual\")\n",
    "plt.title(\"Confusion Matrix for KNN\")\n",
    "plt.tight_layout()\n",
    "plt.show()\n"
   ]
  },
  {
   "cell_type": "code",
   "execution_count": 265,
   "id": "4ab43f21-9b66-4b7b-937f-87e69a8eeda8",
   "metadata": {},
   "outputs": [
    {
     "name": "stdout",
     "output_type": "stream",
     "text": [
      "✅ Accuracy: 95.54%\n"
     ]
    }
   ],
   "source": [
    "from sklearn.metrics import accuracy_score\n",
    "\n",
    "# Accuracy score (0.0 to 1.0)\n",
    "acc = accuracy_score(y_val, y_val_pred)\n",
    "\n",
    "# Display as percentage\n",
    "print(f\"✅ Accuracy: {acc * 100:.2f}%\")\n"
   ]
  },
  {
   "cell_type": "code",
   "execution_count": null,
   "id": "116ff94e-f19c-488a-8788-2b1528fb4a39",
   "metadata": {},
   "outputs": [],
   "source": []
  }
 ],
 "metadata": {
  "kernelspec": {
   "display_name": "Python [conda env:base] *",
   "language": "python",
   "name": "conda-base-py"
  },
  "language_info": {
   "codemirror_mode": {
    "name": "ipython",
    "version": 3
   },
   "file_extension": ".py",
   "mimetype": "text/x-python",
   "name": "python",
   "nbconvert_exporter": "python",
   "pygments_lexer": "ipython3",
   "version": "3.12.7"
  }
 },
 "nbformat": 4,
 "nbformat_minor": 5
}
