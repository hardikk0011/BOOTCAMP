{
 "cells": [
  {
   "cell_type": "code",
   "execution_count": 1,
   "id": "367ff447",
   "metadata": {},
   "outputs": [],
   "source": [
    "import numpy as np\n",
    "import pandas as pd\n",
    "import seaborn as sns\n",
    "import matplotlib.pyplot as plt"
   ]
  },
  {
   "cell_type": "markdown",
   "id": "b33faf9c",
   "metadata": {},
   "source": [
    "loading the dataset"
   ]
  },
  {
   "cell_type": "code",
   "execution_count": 3,
   "id": "54eb35b1",
   "metadata": {},
   "outputs": [],
   "source": [
    "file_path = r\"C:\\Users\\shish\\Desktop\\bright_automotive_company.csv\"\n",
    "\n",
    "df = pd.read_csv(file_path)\n"
   ]
  },
  {
   "cell_type": "markdown",
   "id": "a5fdbb62",
   "metadata": {},
   "source": [
    "# CHecking the top 5 rows"
   ]
  },
  {
   "cell_type": "code",
   "execution_count": 4,
   "id": "12a5e13d",
   "metadata": {},
   "outputs": [
    {
     "name": "stdout",
     "output_type": "stream",
     "text": [
      "   Age  Gender Profession Marital_status      Education No_of_Dependents  \\\n",
      "0   53    Male   Business        Married  Post Graduate                4   \n",
      "1   53   Femal   Salaried        Married  Post Graduate                4   \n",
      "2   53  Female   Salaried        Married  Post Graduate                3   \n",
      "3   53  Female   Salaried        Married       Graduate                ?   \n",
      "4   53    Male        NaN        Married  Post Graduate                3   \n",
      "\n",
      "  Personal_loan House_loan Partner_working   Salary  Partner_salary  \\\n",
      "0            No         No             Yes  99300.0         70700.0   \n",
      "1           Yes         No             Yes  95500.0         70300.0   \n",
      "2            No         No             Yes  97300.0         60700.0   \n",
      "3           Yes         No             Yes  72500.0         70300.0   \n",
      "4            No         No             Yes  79700.0         60200.0   \n",
      "\n",
      "   Total_salary  Price Make  \n",
      "0        170000  61000  SUV  \n",
      "1        165800  61000  SUV  \n",
      "2        158000  57000  SUV  \n",
      "3        142800  61000    ?  \n",
      "4        139900  57000  SUV  \n"
     ]
    }
   ],
   "source": [
    "\n",
    "print(df.head())"
   ]
  },
  {
   "cell_type": "markdown",
   "id": "7321dd09",
   "metadata": {},
   "source": [
    "# Display the last 5 rows"
   ]
  },
  {
   "cell_type": "code",
   "execution_count": 20,
   "id": "f4adf517",
   "metadata": {},
   "outputs": [
    {
     "name": "stdout",
     "output_type": "stream",
     "text": [
      "      Age Gender Profession Marital_status Education No_of_Dependents  \\\n",
      "1576   22   Male   Salaried         Single  Graduate                2   \n",
      "1577   22   Male   Business        Married  Graduate                4   \n",
      "1578   22   Male   Business         Single  Graduate                2   \n",
      "1579   22   Male   Business        Married  Graduate                3   \n",
      "1580   22   Male   Salaried        Married  Graduate                4   \n",
      "\n",
      "     Personal_loan House_loan Partner_working   Salary  Partner_salary  \\\n",
      "1576            No        Yes              No  33300.0             0.0   \n",
      "1577            No         No              No  32000.0             NaN   \n",
      "1578            No        Yes              No  32900.0             0.0   \n",
      "1579           Yes        Yes              No  32200.0             NaN   \n",
      "1580            No         No              No  31600.0             0.0   \n",
      "\n",
      "      Total_salary  Price       Make  \n",
      "1576         33300  27000  Hatchback  \n",
      "1577         32000  31000  Hatchback  \n",
      "1578         32900  30000  Hatchback  \n",
      "1579         32200  24000  Hatchback  \n",
      "1580         31600  31000  Hatchback  \n"
     ]
    }
   ],
   "source": [
    "print(df.tail())\n"
   ]
  },
  {
   "cell_type": "markdown",
   "id": "f1d109a7",
   "metadata": {},
   "source": [
    "# Check the shape of dataset"
   ]
  },
  {
   "cell_type": "code",
   "execution_count": 9,
   "id": "b9b1eb58",
   "metadata": {},
   "outputs": [
    {
     "data": {
      "text/plain": [
       "(1581, 14)"
      ]
     },
     "execution_count": 9,
     "metadata": {},
     "output_type": "execute_result"
    }
   ],
   "source": [
    "df.shape"
   ]
  },
  {
   "cell_type": "markdown",
   "id": "f5e5d2f1",
   "metadata": {},
   "source": [
    "# Check the datatypes of each feature."
   ]
  },
  {
   "cell_type": "code",
   "execution_count": 22,
   "id": "bd8dd62b",
   "metadata": {},
   "outputs": [
    {
     "name": "stdout",
     "output_type": "stream",
     "text": [
      "Age                   int64\n",
      "Gender               object\n",
      "Profession           object\n",
      "Marital_status       object\n",
      "Education            object\n",
      "No_of_Dependents     object\n",
      "Personal_loan        object\n",
      "House_loan           object\n",
      "Partner_working      object\n",
      "Salary              float64\n",
      "Partner_salary      float64\n",
      "Total_salary          int64\n",
      "Price                 int64\n",
      "Make                 object\n",
      "dtype: object\n"
     ]
    }
   ],
   "source": [
    "print(df.dtypes)"
   ]
  },
  {
   "cell_type": "code",
   "execution_count": 7,
   "id": "ac481a98",
   "metadata": {},
   "outputs": [
    {
     "name": "stdout",
     "output_type": "stream",
     "text": [
      "<class 'pandas.core.frame.DataFrame'>\n",
      "RangeIndex: 1581 entries, 0 to 1580\n",
      "Data columns (total 14 columns):\n",
      " #   Column            Non-Null Count  Dtype  \n",
      "---  ------            --------------  -----  \n",
      " 0   Age               1581 non-null   int64  \n",
      " 1   Gender            1528 non-null   object \n",
      " 2   Profession        1575 non-null   object \n",
      " 3   Marital_status    1581 non-null   object \n",
      " 4   Education         1581 non-null   object \n",
      " 5   No_of_Dependents  1581 non-null   object \n",
      " 6   Personal_loan     1581 non-null   object \n",
      " 7   House_loan        1581 non-null   object \n",
      " 8   Partner_working   1581 non-null   object \n",
      " 9   Salary            1568 non-null   float64\n",
      " 10  Partner_salary    1475 non-null   float64\n",
      " 11  Total_salary      1581 non-null   int64  \n",
      " 12  Price             1581 non-null   int64  \n",
      " 13  Make              1581 non-null   object \n",
      "dtypes: float64(2), int64(3), object(9)\n",
      "memory usage: 173.1+ KB\n"
     ]
    }
   ],
   "source": [
    "df.info()"
   ]
  },
  {
   "cell_type": "markdown",
   "id": "da4241c6",
   "metadata": {},
   "source": [
    "# total no. of duplicates rows"
   ]
  },
  {
   "cell_type": "code",
   "execution_count": 10,
   "id": "28f1dfde",
   "metadata": {},
   "outputs": [
    {
     "data": {
      "text/plain": [
       "0"
      ]
     },
     "execution_count": 10,
     "metadata": {},
     "output_type": "execute_result"
    }
   ],
   "source": [
    "df.duplicated().sum()"
   ]
  },
  {
   "cell_type": "code",
   "execution_count": 11,
   "id": "dc2908f2",
   "metadata": {},
   "outputs": [
    {
     "data": {
      "text/html": [
       "<div>\n",
       "<style scoped>\n",
       "    .dataframe tbody tr th:only-of-type {\n",
       "        vertical-align: middle;\n",
       "    }\n",
       "\n",
       "    .dataframe tbody tr th {\n",
       "        vertical-align: top;\n",
       "    }\n",
       "\n",
       "    .dataframe thead th {\n",
       "        text-align: right;\n",
       "    }\n",
       "</style>\n",
       "<table border=\"1\" class=\"dataframe\">\n",
       "  <thead>\n",
       "    <tr style=\"text-align: right;\">\n",
       "      <th></th>\n",
       "      <th>Age</th>\n",
       "      <th>Gender</th>\n",
       "      <th>Profession</th>\n",
       "      <th>Marital_status</th>\n",
       "      <th>Education</th>\n",
       "      <th>No_of_Dependents</th>\n",
       "      <th>Personal_loan</th>\n",
       "      <th>House_loan</th>\n",
       "      <th>Partner_working</th>\n",
       "      <th>Salary</th>\n",
       "      <th>Partner_salary</th>\n",
       "      <th>Total_salary</th>\n",
       "      <th>Price</th>\n",
       "      <th>Make</th>\n",
       "    </tr>\n",
       "  </thead>\n",
       "  <tbody>\n",
       "  </tbody>\n",
       "</table>\n",
       "</div>"
      ],
      "text/plain": [
       "Empty DataFrame\n",
       "Columns: [Age, Gender, Profession, Marital_status, Education, No_of_Dependents, Personal_loan, House_loan, Partner_working, Salary, Partner_salary, Total_salary, Price, Make]\n",
       "Index: []"
      ]
     },
     "execution_count": 11,
     "metadata": {},
     "output_type": "execute_result"
    }
   ],
   "source": [
    "df[df.duplicated()]"
   ]
  },
  {
   "cell_type": "markdown",
   "id": "c090460f",
   "metadata": {},
   "source": [
    "#   Check the NULL  Values"
   ]
  },
  {
   "cell_type": "code",
   "execution_count": 12,
   "id": "9cd9ce48",
   "metadata": {},
   "outputs": [
    {
     "data": {
      "text/plain": [
       "Age                   0\n",
       "Gender               53\n",
       "Profession            6\n",
       "Marital_status        0\n",
       "Education             0\n",
       "No_of_Dependents      0\n",
       "Personal_loan         0\n",
       "House_loan            0\n",
       "Partner_working       0\n",
       "Salary               13\n",
       "Partner_salary      106\n",
       "Total_salary          0\n",
       "Price                 0\n",
       "Make                  0\n",
       "dtype: int64"
      ]
     },
     "execution_count": 12,
     "metadata": {},
     "output_type": "execute_result"
    }
   ],
   "source": [
    "df.isnull().sum()  "
   ]
  },
  {
   "cell_type": "markdown",
   "id": "6e0ffe2c",
   "metadata": {},
   "source": [
    "# # Percentage wise null values in columns"
   ]
  },
  {
   "cell_type": "code",
   "execution_count": 13,
   "id": "fa24a415",
   "metadata": {},
   "outputs": [
    {
     "data": {
      "text/plain": [
       "Age                 0.000000\n",
       "Gender              3.352309\n",
       "Profession          0.379507\n",
       "Marital_status      0.000000\n",
       "Education           0.000000\n",
       "No_of_Dependents    0.000000\n",
       "Personal_loan       0.000000\n",
       "House_loan          0.000000\n",
       "Partner_working     0.000000\n",
       "Salary              0.822264\n",
       "Partner_salary      6.704617\n",
       "Total_salary        0.000000\n",
       "Price               0.000000\n",
       "Make                0.000000\n",
       "dtype: float64"
      ]
     },
     "execution_count": 13,
     "metadata": {},
     "output_type": "execute_result"
    }
   ],
   "source": [
    "df.isnull().sum()/len(df)*100"
   ]
  },
  {
   "cell_type": "markdown",
   "id": "08d7b121",
   "metadata": {},
   "source": [
    "# Percentage wise null values in rows"
   ]
  },
  {
   "cell_type": "code",
   "execution_count": 14,
   "id": "3810513a",
   "metadata": {},
   "outputs": [
    {
     "data": {
      "text/plain": [
       "571     2\n",
       "1467    2\n",
       "1155    2\n",
       "327     1\n",
       "1244    1\n",
       "       ..\n",
       "561     0\n",
       "560     0\n",
       "559     0\n",
       "558     0\n",
       "1580    0\n",
       "Length: 1581, dtype: int64"
      ]
     },
     "execution_count": 14,
     "metadata": {},
     "output_type": "execute_result"
    }
   ],
   "source": [
    "df.isnull().sum(axis=1).sort_values(ascending=False)"
   ]
  },
  {
   "cell_type": "markdown",
   "id": "f9654b5a",
   "metadata": {},
   "source": [
    "# OLUTLIER ANALYSis"
   ]
  },
  {
   "cell_type": "code",
   "execution_count": 16,
   "id": "e65bcf1d",
   "metadata": {},
   "outputs": [
    {
     "data": {
      "image/png": "[encoded data removed]",
      "text/plain": [
       "<Figure size 500x200 with 1 Axes>"
      ]
     },
     "metadata": {},
     "output_type": "display_data"
    },
    {
     "data": {
      "image/png": "[encoded data removed]",
      "text/plain": [
       "<Figure size 500x200 with 1 Axes>"
      ]
     },
     "metadata": {},
     "output_type": "display_data"
    },
    {
     "data": {
      "image/png": "[encoded data removed]",
      "text/plain": [
       "<Figure size 500x200 with 1 Axes>"
      ]
     },
     "metadata": {},
     "output_type": "display_data"
    },
    {
     "data": {
      "image/png": "[encoded data removed]",
      "text/plain": [
       "<Figure size 500x200 with 1 Axes>"
      ]
     },
     "metadata": {},
     "output_type": "display_data"
    },
    {
     "data": {
      "image/png": "[encoded data removed]",
      "text/plain": [
       "<Figure size 500x200 with 1 Axes>"
      ]
     },
     "metadata": {},
     "output_type": "display_data"
    }
   ],
   "source": [
    "cat_variables= df.select_dtypes('object')\n",
    "num_variables= df.select_dtypes(['int','float'])\n",
    "for i in num_variables:\n",
    "    plt.figure(figsize=(5,2))\n",
    "    sns.boxplot(data=df, x=i)"
   ]
  },
  {
   "cell_type": "markdown",
   "id": "c4ef36c0",
   "metadata": {},
   "source": [
    "# Finding the no. of outliers in each column"
   ]
  },
  {
   "cell_type": "code",
   "execution_count": 18,
   "id": "9c1c607d",
   "metadata": {},
   "outputs": [
    {
     "name": "stdout",
     "output_type": "stream",
     "text": [
      "Number of ouliers in  Age : 1\n",
      "---------------------------------------------------\n",
      "Number of ouliers in  Salary : 0\n",
      "---------------------------------------------------\n",
      "Number of ouliers in  Partner_salary : 0\n",
      "---------------------------------------------------\n",
      "Number of ouliers in  Total_salary : 27\n",
      "---------------------------------------------------\n",
      "Number of ouliers in  Price : 1\n",
      "---------------------------------------------------\n"
     ]
    }
   ],
   "source": [
    "for i in num_variables:\n",
    "    Q1= np.quantile(df[i],0.25)\n",
    "    Q3= np.quantile(df[i],0.75)\n",
    "    IQR= Q3-Q1\n",
    "    lower_limit= Q1- 1.5*IQR\n",
    "    upper_limit= Q3+ 1.5*IQR\n",
    "    print(\"Number of ouliers in \",i,\":\", len(df[df[i]>upper_limit]))\n",
    "    print('---------------------------------------------------')"
   ]
  },
  {
   "cell_type": "markdown",
   "id": "73d2c32e",
   "metadata": {},
   "source": [
    "# What are the mean, median, and standard deviation of the ages of individuals in the dataset?"
   ]
  },
  {
   "cell_type": "code",
   "execution_count": 23,
   "id": "879c213f",
   "metadata": {},
   "outputs": [
    {
     "name": "stdout",
     "output_type": "stream",
     "text": [
      "Mean Age: 31.952561669829223\n",
      "Median Age: 29.0\n",
      "Standard Deviation of Age: 8.71254886208395\n"
     ]
    }
   ],
   "source": [
    "mean_age = df['Age'].mean()\n",
    "median_age = df['Age'].median()\n",
    "std_age = df['Age'].std()\n",
    "\n",
    "print(f\"Mean Age: {mean_age}\")\n",
    "print(f\"Median Age: {median_age}\")\n",
    "print(f\"Standard Deviation of Age: {std_age}\")\n"
   ]
  },
  {
   "cell_type": "markdown",
   "id": "65dbda8b",
   "metadata": {},
   "source": [
    "# What is the distribution of gender in the dataset? Represent it using a pie chart."
   ]
  },
  {
   "cell_type": "code",
   "execution_count": 24,
   "id": "1c721e8b",
   "metadata": {},
   "outputs": [
    {
     "data": {
      "image/png": "[encoded data removed]",
      "text/plain": [
       "<Figure size 600x600 with 1 Axes>"
      ]
     },
     "metadata": {},
     "output_type": "display_data"
    }
   ],
   "source": [
    "import matplotlib.pyplot as plt\n",
    "gender_counts = df['Gender'].value_counts()\n",
    "plt.figure(figsize=(6,6))\n",
    "plt.pie(gender_counts, labels=gender_counts.index, autopct='%1.1f%%', startangle=140)\n",
    "plt.title('Gender Distribution')\n",
    "plt.axis('equal')  # Equal aspect ratio ensures the pie chart is circular\n",
    "plt.show()\n"
   ]
  },
  {
   "cell_type": "markdown",
   "id": "293da0ac",
   "metadata": {},
   "source": [
    "# Is there a correlation between age and salary? Provide the correlation coefficient and interpret the result."
   ]
  },
  {
   "cell_type": "code",
   "execution_count": 25,
   "id": "85c8a4d5",
   "metadata": {},
   "outputs": [
    {
     "name": "stdout",
     "output_type": "stream",
     "text": [
      "Correlation between Age and Salary: 0.6023547357942133\n"
     ]
    }
   ],
   "source": [
    "# Calculate the correlation coefficient between Age and Salary\n",
    "correlation = df['Age'].corr(df['Salary'])\n",
    "\n",
    "print(f\"Correlation between Age and Salary: {correlation}\")\n"
   ]
  },
  {
   "cell_type": "markdown",
   "id": "58e8d34b",
   "metadata": {},
   "source": [
    "# What is the average salary for individuals based on their educational qualifications (Graduate vs. Post Graduate)?"
   ]
  },
  {
   "cell_type": "code",
   "execution_count": 26,
   "id": "81e18ae8",
   "metadata": {},
   "outputs": [
    {
     "name": "stdout",
     "output_type": "stream",
     "text": [
      "Education\n",
      "Graduate         48440.709459\n",
      "Post Graduate    67456.250000\n",
      "Name: Salary, dtype: float64\n"
     ]
    }
   ],
   "source": [
    "avg_salary_by_education = df.groupby('Education')['Salary'].mean()\n",
    "\n",
    "print(avg_salary_by_education)\n"
   ]
  },
  {
   "cell_type": "markdown",
   "id": "063aef7f",
   "metadata": {},
   "source": [
    "# What is the average price of the product/service in the dataset? How does this price vary based on the individual's total salary?"
   ]
  },
  {
   "cell_type": "code",
   "execution_count": 29,
   "id": "c4391839",
   "metadata": {},
   "outputs": [
    {
     "name": "stdout",
     "output_type": "stream",
     "text": [
      "Average price of the product/service: 35948.17\n",
      "Salary_Group\n",
      "Low          20500.000000\n",
      "Medium       31715.346535\n",
      "High         39493.860846\n",
      "Very High    60800.000000\n",
      "Name: Price, dtype: float64\n"
     ]
    }
   ],
   "source": [
    "import matplotlib.pyplot as plt\n",
    "average_price = df['Price'].mean()\n",
    "print(f\"Average price of the product/service: {average_price:.2f}\")\n",
    "salary_bins = [0, 30000, 60000, 90000, 120000]  # Example bins\n",
    "salary_labels = ['Low', 'Medium', 'High', 'Very High']\n",
    "df['Salary_Group'] = pd.cut(df['Salary'], bins=salary_bins, labels=salary_labels)\n",
    "\n",
    "avg_price_by_salary_group = df.groupby('Salary_Group')['Price'].mean()\n",
    "\n",
    "print(avg_price_by_salary_group)\n",
    "\n"
   ]
  },
  {
   "cell_type": "markdown",
   "id": "085f17c2",
   "metadata": {},
   "source": [
    "# What is the average partner's salary for individuals with and without house loans?"
   ]
  },
  {
   "cell_type": "code",
   "execution_count": 32,
   "id": "8d0328ca",
   "metadata": {},
   "outputs": [
    {
     "name": "stdout",
     "output_type": "stream",
     "text": [
      "Columns in the dataset: ['Age', 'Gender', 'Profession', 'Marital_status', 'Education', 'No_of_Dependents', 'Personal_loan', 'House_loan', 'Partner_working', 'Salary', 'Partner_salary', 'Total_salary', 'Price', 'Make', 'Salary_Group']\n",
      "Column 'House_Loan' not found! Please update to the correct house loan column name.\n"
     ]
    }
   ],
   "source": [
    "# Print all columns\n",
    "print(\"Columns in the dataset:\", df.columns.tolist())\n",
    "\n",
    "# Update these after you confirm the correct column names\n",
    "partner_salary_col = 'Partner_Salary'  # Update if different\n",
    "house_loan_col = 'House_Loan'          # Replace with actual column name for house loan\n",
    "\n",
    "if house_loan_col not in df.columns:\n",
    "    print(f\"Column '{house_loan_col}' not found! Please update to the correct house loan column name.\")\n",
    "else:\n",
    "    avg_partner_salary_by_house_loan = df.groupby(house_loan_col)[partner_salary_col].mean()\n",
    "    print(\"Average partner's salary by house loan status:\")\n",
    "    print(avg_partner_salary_by_house_loan)\n"
   ]
  },
  {
   "cell_type": "markdown",
   "id": "31c7a6be",
   "metadata": {},
   "source": []
  }
 ],
 "metadata": {
  "kernelspec": {
   "display_name": "Python 3 (ipykernel)",
   "language": "python",
   "name": "python3"
  },
  "language_info": {
   "codemirror_mode": {
    "name": "ipython",
    "version": 3
   },
   "file_extension": ".py",
   "mimetype": "text/x-python",
   "name": "python",
   "nbconvert_exporter": "python",
   "pygments_lexer": "ipython3",
   "version": "3.11.5"
  }
 },
 "nbformat": 4,
 "nbformat_minor": 5
}
